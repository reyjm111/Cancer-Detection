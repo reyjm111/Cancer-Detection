{
  "nbformat": 4,
  "nbformat_minor": 0,
  "metadata": {
    "colab": {
      "provenance": [],
      "authorship_tag": "ABX9TyPvH1qgkkFoAVidEnOU7x89",
      "include_colab_link": true
    },
    "kernelspec": {
      "name": "python3",
      "display_name": "Python 3"
    },
    "language_info": {
      "name": "python"
    }
  },
  "cells": [
    {
      "cell_type": "markdown",
      "metadata": {
        "id": "view-in-github",
        "colab_type": "text"
      },
      "source": [
        "<a href=\"https://colab.research.google.com/github/reyjm111/Cancer-Detection/blob/main/Lung_Cancer_Detection.ipynb\" target=\"_parent\"><img src=\"https://colab.research.google.com/assets/colab-badge.svg\" alt=\"Open In Colab\"/></a>"
      ]
    },
    {
      "cell_type": "markdown",
      "source": [
        "# Lung Cancer Detection\n"
      ],
      "metadata": {
        "id": "zuODAs0gbRKX"
      }
    },
    {
      "cell_type": "markdown",
      "source": [
        "### Import Data"
      ],
      "metadata": {
        "id": "_trN7P16beg-"
      }
    },
    {
      "cell_type": "code",
      "execution_count": 50,
      "metadata": {
        "id": "WDeNj5tNWt0m"
      },
      "outputs": [],
      "source": [
        "import pandas as pd\n",
        "data = pd.read_csv(\"https://raw.githubusercontent.com/reyjm111/Cancer-Detection/main/survey%20lung%20cancer.csv\")"
      ]
    },
    {
      "cell_type": "markdown",
      "source": [
        "### Turn labels into binary numbers"
      ],
      "metadata": {
        "id": "-5b92eZcbkTz"
      }
    },
    {
      "cell_type": "code",
      "source": [
        "data['LUNG_CANCER'] = data['LUNG_CANCER'].replace('YES', 2)\n",
        "data['LUNG_CANCER'] = data['LUNG_CANCER'].replace('NO', 1)"
      ],
      "metadata": {
        "id": "dmcGUqh_XHQV"
      },
      "execution_count": 51,
      "outputs": []
    },
    {
      "cell_type": "markdown",
      "source": [
        "### Drop unnecessary data columns and split data"
      ],
      "metadata": {
        "id": "4KXRAeTYbq4l"
      }
    },
    {
      "cell_type": "code",
      "source": [
        "from sklearn.model_selection import train_test_split\n",
        "\n",
        "X = data.drop(['PEER_PRESSURE', 'ALCOHOL CONSUMING', 'GENDER', 'AGE', 'LUNG_CANCER'], axis = 1)\n",
        "y = data['LUNG_CANCER']\n",
        "X_train, X_test, y_train, y_test = train_test_split(X, y, test_size=0.25, random_state=16)"
      ],
      "metadata": {
        "id": "a2xrNEVdXL34"
      },
      "execution_count": 52,
      "outputs": []
    },
    {
      "cell_type": "markdown",
      "source": [
        "### Train Model"
      ],
      "metadata": {
        "id": "08VGwuVZb3W8"
      }
    },
    {
      "cell_type": "code",
      "source": [
        "from sklearn.linear_model import LogisticRegression\n",
        "model = LogisticRegression(random_state = 16)\n",
        "model.fit(X_train, y_train)\n",
        "y_prediction = model.predict(X_test)"
      ],
      "metadata": {
        "id": "zSNyrXs7XMgg"
      },
      "execution_count": 53,
      "outputs": []
    },
    {
      "cell_type": "markdown",
      "source": [
        "### Evaluation"
      ],
      "metadata": {
        "id": "VzERdAsWb7HS"
      }
    },
    {
      "cell_type": "code",
      "source": [
        "from sklearn.metrics import accuracy_score, precision_score, recall_score, f1_score\n",
        "\n",
        "accuracy = accuracy_score(y_test, y_prediction)\n",
        "precision = precision_score(y_test, y_prediction)\n",
        "recall = recall_score(y_test, y_prediction)\n",
        "f1 = f1_score(y_test, y_prediction)\n",
        "print(f\"Accuracy: {accuracy}\")\n",
        "print(f\"Precision: {precision}\")\n",
        "print(f\"Recall: {recall}\")\n",
        "print(f\"F1: {f1}\")\n"
      ],
      "metadata": {
        "colab": {
          "base_uri": "https://localhost:8080/"
        },
        "id": "kc62U2h1Y6hd",
        "outputId": "87a08874-223e-4c85-b689-479dcf5288f8"
      },
      "execution_count": 54,
      "outputs": [
        {
          "output_type": "stream",
          "name": "stdout",
          "text": [
            "Accuracy: 0.9230769230769231\n",
            "Precision: 0.75\n",
            "Recall: 0.6\n",
            "F1: 0.6666666666666665\n"
          ]
        }
      ]
    },
    {
      "cell_type": "code",
      "source": [
        "from sklearn.metrics import confusion_matrix\n",
        "\n",
        "cm = confusion_matrix(y_test, y_prediction)\n",
        "print(f\"Confusion Matrix: {cm}\")"
      ],
      "metadata": {
        "colab": {
          "base_uri": "https://localhost:8080/"
        },
        "id": "zEDGsg7vnpvB",
        "outputId": "4574cfc5-1470-4387-c44c-bb3384287312"
      },
      "execution_count": 55,
      "outputs": [
        {
          "output_type": "stream",
          "name": "stdout",
          "text": [
            "Confusion Matrix: [[ 6  4]\n",
            " [ 2 66]]\n"
          ]
        }
      ]
    },
    {
      "cell_type": "code",
      "source": [
        "from sklearn.model_selection import cross_val_score\n",
        "\n",
        "cross_val_accuracy = cross_val_score(model, X, y, cv = 5, scoring = 'accuracy')\n",
        "print(f\"Cross Validation Accuracy: {cross_val_accuracy.mean()}\")"
      ],
      "metadata": {
        "colab": {
          "base_uri": "https://localhost:8080/"
        },
        "id": "XrszbfoMoyaW",
        "outputId": "159054e6-89ac-48b7-e38d-1eb0943acd5d"
      },
      "execution_count": 56,
      "outputs": [
        {
          "output_type": "stream",
          "name": "stdout",
          "text": [
            "Cross Validation Accuracy: 0.9062400846113169\n"
          ]
        }
      ]
    },
    {
      "cell_type": "code",
      "source": [
        "from sklearn.model_selection import GridSearchCV\n",
        "\n",
        "param_grid = {'C': [0.001, 0.01, 0.1, 1, 10, 100]}\n",
        "grid_search = GridSearchCV(LogisticRegression(random_state=16), param_grid, cv=5, scoring='accuracy')\n",
        "grid_search.fit(X, y)\n",
        "print(\"Best Parameters: \", grid_search.best_params_)"
      ],
      "metadata": {
        "colab": {
          "base_uri": "https://localhost:8080/"
        },
        "id": "iOfUBv9zqNWZ",
        "outputId": "87450930-dba4-4e8a-8c06-b219ed0305dc"
      },
      "execution_count": 58,
      "outputs": [
        {
          "output_type": "stream",
          "name": "stdout",
          "text": [
            "Best Parameters:  {'C': 1}\n"
          ]
        }
      ]
    },
    {
      "cell_type": "markdown",
      "source": [
        "### Feature Selection (Optimizing the Model)"
      ],
      "metadata": {
        "id": "NEmMxjXsdpi8"
      }
    },
    {
      "cell_type": "code",
      "source": [
        "from sklearn.feature_selection import RFE\n",
        "from sklearn.linear_model import LogisticRegression\n",
        "\n",
        "model = LogisticRegression(random_state=16)\n",
        "rfe = RFE(model, n_features_to_select=5)\n",
        "rfe.fit(X, y)\n",
        "print(rfe.support_)"
      ],
      "metadata": {
        "id": "rKg-M3badwzc"
      },
      "execution_count": null,
      "outputs": []
    },
    {
      "cell_type": "markdown",
      "source": [
        "### New Prediction with Fewer Features"
      ],
      "metadata": {
        "id": "3zDALixKfR66"
      }
    },
    {
      "cell_type": "code",
      "source": [
        "X_new = X.drop(['SMOKING', 'YELLOW_FINGERS', 'ANXIETY', 'WHEEZING', 'SHORTNESS OF BREATH', 'CHEST PAIN'], axis = 1)\n",
        "#X_new"
      ],
      "metadata": {
        "id": "0CakpAnEelH1"
      },
      "execution_count": null,
      "outputs": []
    },
    {
      "cell_type": "code",
      "source": [
        "from sklearn.model_selection import train_test_split\n",
        "\n",
        "y = data['LUNG_CANCER']\n",
        "X_train, X_test, y_train, y_test = train_test_split(X_new, y, test_size=0.25, random_state=16)"
      ],
      "metadata": {
        "id": "w_zyUe2NihVG"
      },
      "execution_count": null,
      "outputs": []
    },
    {
      "cell_type": "code",
      "source": [
        "from sklearn.linear_model import LogisticRegression\n",
        "model = LogisticRegression(random_state = 16)\n",
        "model.fit(X_train, y_train)\n",
        "y_prediction = model.predict(X_test)"
      ],
      "metadata": {
        "id": "HGtgUtS4irzI"
      },
      "execution_count": null,
      "outputs": []
    },
    {
      "cell_type": "code",
      "source": [
        "results = (y_test - y_prediction)**2\n",
        "results.sum()"
      ],
      "metadata": {
        "id": "nsGO2NXXivwO"
      },
      "execution_count": null,
      "outputs": []
    },
    {
      "cell_type": "markdown",
      "source": [],
      "metadata": {
        "id": "shKpvFlOW5x9"
      }
    }
  ]
}